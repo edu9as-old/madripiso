{
 "cells": [
  {
   "cell_type": "markdown",
   "source": [
    "# Madripiso accounts\n",
    "\n",
    "In this Jupyter notebook, you will process an Excel file with all the items which have been bought in the Madripiso, to know how many money everybody owes to everybody.\n",
    "\n",
    "If you want to, you can run this notebook in <a target=\"_blank\" href=\"https://colab.research.google.com/github/edu9as/madripiso/blob/master/cuentas-del-madripiso.ipynb\">Google Colab</a>."
   ],
   "metadata": {}
  },
  {
   "cell_type": "markdown",
   "source": [
    "## Step 1: Update the Madripiso accounts' Excel file\n",
    "\n",
    "Update and download the Excel file from Google Drive' **Madripiso** folder. If you do not live in Madripiso, you will find a sample Excel file in my GitHub repository called Madripiso (**sample.xlsx**).\n",
    "\n",
    "This Excel file contains seven columns:\n",
    "\n",
    "- **Qué**: this column contains the name of each item (string).\n",
    "- **Quién**: this column contains the initial letter of the name of the person who has bought the **Qué** item (one-character string).\n",
    "- **Para quién**: this column shows the initial letter of the names of people who will use (eat, drink, or whatever) the **Qué** item (string).\n",
    "- **Cuánto**: this column indicates the amount of money that **Quién** spent on **Qué** item (two-decimals float).\n",
    "- **Cuándo**: this column contains the date in which the item was bought; format: yyyy-mm-dd (date).\n",
    "- **Dónde**: this column shows the place where the item was bought (string).\n",
    "- **Incidencias**: this column indicates any unforeseen circumstance that has happened when annotating the item (string).\n",
    "\n",
    "Initially, to process all accounts, only **Quién**, **Para quién** and **Cuánto** have been used."
   ],
   "metadata": {}
  },
  {
   "cell_type": "markdown",
   "source": [
    "## Step 2: Write the correct path to the Madripiso accounts' Excel file\n",
    "\n",
    "First, you will be prompted to select and upload the file you want to analyze."
   ],
   "metadata": {}
  },
  {
   "cell_type": "code",
   "execution_count": 1,
   "source": [
    "from google.colab import files\n",
    "uploaded = files.upload()"
   ],
   "outputs": [],
   "metadata": {}
  },
  {
   "cell_type": "markdown",
   "source": [
    "Now, between both quotation marks, write the name of the Excel file you just uploaded:"
   ],
   "metadata": {}
  },
  {
   "cell_type": "code",
   "execution_count": 2,
   "source": [
    "file_name = \"sample.xlsx\""
   ],
   "outputs": [],
   "metadata": {}
  },
  {
   "cell_type": "markdown",
   "source": [
    "## Step 3: Load the Excel file into Python\n",
    "\n",
    "In the previous step, we imported *pandas* package. This is a very useful package to deal with dataframes, which is the aim of this notebook.\n",
    "\n",
    "We load the Excel file into Python, using the path written in the previous step. The object with Excel data is called **gastos**."
   ],
   "metadata": {}
  },
  {
   "cell_type": "code",
   "execution_count": 3,
   "source": [
    "import pandas as pd\n",
    "import io\n",
    "\n",
    "gastos = pd.read_excel(io.BytesIO(uploaded[file_name]))\n",
    "gastos"
   ],
   "outputs": [
    {
     "output_type": "execute_result",
     "data": {
      "text/plain": [
       "                Que Quien ParaQuien  Cuanto     Cuando         Donde  \\\n",
       "0  Spanish omelette     C      RXXX      50 2022-09-05  Eiffel tower   \n",
       "1             Stuff     E         C       5 2022-09-06        London   \n",
       "2        More stuff     R         E       2 2022-09-07        Boston   \n",
       "\n",
       "  Incidencias  \n",
       "0           -  \n",
       "1           -  \n",
       "2           -  "
      ],
      "text/html": [
       "<div>\n",
       "<style scoped>\n",
       "    .dataframe tbody tr th:only-of-type {\n",
       "        vertical-align: middle;\n",
       "    }\n",
       "\n",
       "    .dataframe tbody tr th {\n",
       "        vertical-align: top;\n",
       "    }\n",
       "\n",
       "    .dataframe thead th {\n",
       "        text-align: right;\n",
       "    }\n",
       "</style>\n",
       "<table border=\"1\" class=\"dataframe\">\n",
       "  <thead>\n",
       "    <tr style=\"text-align: right;\">\n",
       "      <th></th>\n",
       "      <th>Que</th>\n",
       "      <th>Quien</th>\n",
       "      <th>ParaQuien</th>\n",
       "      <th>Cuanto</th>\n",
       "      <th>Cuando</th>\n",
       "      <th>Donde</th>\n",
       "      <th>Incidencias</th>\n",
       "    </tr>\n",
       "  </thead>\n",
       "  <tbody>\n",
       "    <tr>\n",
       "      <th>0</th>\n",
       "      <td>Spanish omelette</td>\n",
       "      <td>C</td>\n",
       "      <td>RXXX</td>\n",
       "      <td>50</td>\n",
       "      <td>2022-09-05</td>\n",
       "      <td>Eiffel tower</td>\n",
       "      <td>-</td>\n",
       "    </tr>\n",
       "    <tr>\n",
       "      <th>1</th>\n",
       "      <td>Stuff</td>\n",
       "      <td>E</td>\n",
       "      <td>C</td>\n",
       "      <td>5</td>\n",
       "      <td>2022-09-06</td>\n",
       "      <td>London</td>\n",
       "      <td>-</td>\n",
       "    </tr>\n",
       "    <tr>\n",
       "      <th>2</th>\n",
       "      <td>More stuff</td>\n",
       "      <td>R</td>\n",
       "      <td>E</td>\n",
       "      <td>2</td>\n",
       "      <td>2022-09-07</td>\n",
       "      <td>Boston</td>\n",
       "      <td>-</td>\n",
       "    </tr>\n",
       "  </tbody>\n",
       "</table>\n",
       "</div>"
      ]
     },
     "metadata": {},
     "execution_count": 3
    }
   ],
   "metadata": {}
  },
  {
   "cell_type": "markdown",
   "source": [
    "## Step 4: Create a database with all accounts in Madripiso\n",
    "\n",
    "The objective of this block is to create a dataframe with the same number of rows and columns (squared). They will contain the money that everybody owes to a given person (who gives name to the row), and the money that a given person owes to everybody (who gives name to the column). For example:\n",
    "\n",
    "|       | **C** | **E** | **R** |\n",
    "|-------|-------|-------|-------|\n",
    "| **C** | 0     | 5     | 0     |\n",
    "| **E** | 0     | 0     | 2     |\n",
    "| **R** | 0     | 0     | 0     | \n",
    "\n",
    "This dataframe, similar to the dataframe we are generating, shows that Eduardo (it's me, hi everybody!) owes 5 dollars to Charlie (C) and Rose (R) owes 2 dollars to Eduardo.\n",
    "\n",
    "First, we are creating a dictionary which links each initial to its corresponding name. If you live in Madripiso, execute the following code cell:"
   ],
   "metadata": {}
  },
  {
   "cell_type": "code",
   "execution_count": 4,
   "source": [
    "# nombres = {\"A\": \"A\", \"E\": \"Eduardo\", \"J\": \"J\", \"L\": \"L\",\n",
    "#            \"N\": \"N\", \"X\": \"Foreigner\"}\n"
   ],
   "outputs": [],
   "metadata": {}
  },
  {
   "cell_type": "markdown",
   "source": [
    "In order to protect my colleagues' identities, I'm not including their names in this public Jupyter notebook but I'm sure they will know which name corresponds to each initial letter.\n",
    "\n",
    "On the other hand, if you are not from Madripiso and you are using **sample.xlsx**, execute this other code cell:"
   ],
   "metadata": {}
  },
  {
   "cell_type": "code",
   "execution_count": 5,
   "source": [
    "nombres = {\"C\": \"Charles\", \"E\": \"Eduardo\", \"R\": \"Rose\", \"X\": \"Foreigner\"}"
   ],
   "outputs": [],
   "metadata": {}
  },
  {
   "cell_type": "markdown",
   "source": [
    "The presence of **Foreigner** in the dataframe will help in adjusting accounts when a person who does not live in Madripiso uses an item which somebody in the Madripiso bought. In example: if **Charles** buys an Spanish omelette for dinner and this Spanish omelette is eaten by **Rose** and three **Foreigners** during dinner, it is not fair to say that **Rose** owes to **Charles** the price of the whole Spanish omelette, but only the proportional part (in this case, 25% of the price).\n",
    "\n",
    "To generate the final dataframe, I am creating a big dictionary (**tabla**) comprised of small dictionaries (**deuda**). Each **deuda** dictionary contains the sum of the money that every person (value) owes to a given person (key). This is reached by appending to a list (**deudita**) all owings from a given person, computing the sum of all this values and linking this sum to a letter. This is the code: "
   ],
   "metadata": {}
  },
  {
   "cell_type": "code",
   "execution_count": 6,
   "source": [
    "tabla = dict()\n",
    "for name in list(nombres.keys())[:-1]:\n",
    "    deuda = dict()\n",
    "    for nombre in list(nombres.keys())[:-1]:\n",
    "        deudita = list()\n",
    "        for _ in range(len(gastos)):\n",
    "            condition1 = name != nombre \n",
    "            condition2 = name in gastos[\"ParaQuien\"][_]\n",
    "            condition3 = nombre in gastos[\"Quien\"][_]\n",
    "            if condition1 and condition2 and condition3:\n",
    "                for i in range(gastos[\"ParaQuien\"][_].count(name)):\n",
    "                    deudita.append(round(gastos[\"Cuanto\"][_]/len(gastos[\"ParaQuien\"][_]), 2))\n",
    "        deuda[nombre] = sum(deudita)\n",
    "    tabla[name] = deuda\n",
    "\n",
    "del deudita, deuda, gastos, name, nombre, i\n",
    "tabla = pd.DataFrame.from_dict(tabla, orient = \"index\").transpose()\n",
    "\n",
    "tabla"
   ],
   "outputs": [
    {
     "output_type": "execute_result",
     "data": {
      "text/plain": [
       "     C    E     R\n",
       "C  0.0  0.0  12.5\n",
       "E  5.0  0.0   0.0\n",
       "R  0.0  2.0   0.0"
      ],
      "text/html": [
       "<div>\n",
       "<style scoped>\n",
       "    .dataframe tbody tr th:only-of-type {\n",
       "        vertical-align: middle;\n",
       "    }\n",
       "\n",
       "    .dataframe tbody tr th {\n",
       "        vertical-align: top;\n",
       "    }\n",
       "\n",
       "    .dataframe thead th {\n",
       "        text-align: right;\n",
       "    }\n",
       "</style>\n",
       "<table border=\"1\" class=\"dataframe\">\n",
       "  <thead>\n",
       "    <tr style=\"text-align: right;\">\n",
       "      <th></th>\n",
       "      <th>C</th>\n",
       "      <th>E</th>\n",
       "      <th>R</th>\n",
       "    </tr>\n",
       "  </thead>\n",
       "  <tbody>\n",
       "    <tr>\n",
       "      <th>C</th>\n",
       "      <td>0.0</td>\n",
       "      <td>0.0</td>\n",
       "      <td>12.5</td>\n",
       "    </tr>\n",
       "    <tr>\n",
       "      <th>E</th>\n",
       "      <td>5.0</td>\n",
       "      <td>0.0</td>\n",
       "      <td>0.0</td>\n",
       "    </tr>\n",
       "    <tr>\n",
       "      <th>R</th>\n",
       "      <td>0.0</td>\n",
       "      <td>2.0</td>\n",
       "      <td>0.0</td>\n",
       "    </tr>\n",
       "  </tbody>\n",
       "</table>\n",
       "</div>"
      ]
     },
     "metadata": {},
     "execution_count": 6
    }
   ],
   "metadata": {}
  },
  {
   "cell_type": "markdown",
   "source": [
    "## Step 5: Print outputs\n",
    "\n",
    "The final step is to print some outputs!! All outputs are written in Spanish, because we prefer it.\n",
    "\n",
    "### First: how many money owes each person to any other person?\n",
    "\n",
    "Let's see!"
   ],
   "metadata": {}
  },
  {
   "cell_type": "code",
   "execution_count": 7,
   "source": [
    "print(\"#######################################\\n\" +\n",
    "      \"# ESTAS SON LAS CUENTAS DEL MADRIPISO #\\n\" +\n",
    "      \"#######################################\\n\")\n",
    "\n",
    "print(\"¿Cuánto debe cada uno a cada uno?\\n\")\n",
    "for name in list(nombres.keys())[:-1]:\n",
    "    for nombre in list(nombres.keys())[:-1]:\n",
    "        if name != nombre and tabla[nombre][name] != 0:\n",
    "            print(\"%s debe %.2f euros a %s.\" % (nombres[nombre], \n",
    "                                          tabla[nombre][name],\n",
    "                                          nombres[name]))"
   ],
   "outputs": [
    {
     "output_type": "stream",
     "name": "stdout",
     "text": [
      "#######################################\n",
      "# ESTAS SON LAS CUENTAS DEL MADRIPISO #\n",
      "#######################################\n",
      "\n",
      "¿Cuánto debe cada uno a cada uno?\n",
      "\n",
      "Rose debe 12.50 euros a Charles.\n",
      "Charles debe 5.00 euros a Eduardo.\n",
      "Eduardo debe 2.00 euros a Rose.\n"
     ]
    }
   ],
   "metadata": {}
  },
  {
   "cell_type": "markdown",
   "source": [
    "### Second: how many money owes each person to any other person, in a simplified way?\n",
    "\n",
    "Here, we are calculating the money that person A owes to person B minus the money that person B owes to person A. Also, all foreigners accounts are excluded."
   ],
   "metadata": {}
  },
  {
   "cell_type": "code",
   "execution_count": 8,
   "source": [
    "print(\"\\n\\n\\n\" +\n",
    "      \"#################\\n\" +\n",
    "      \"# SIMPLIFICANDO #\\n\" +\n",
    "      \"#################\\n\")\n",
    "\n",
    "print(\"Pero, haciendo cuentas, ¿cuánto debe realmente\\n\" +\n",
    "      \"cada uno a cada uno?\\n\")\n",
    "\n",
    "k = len(list(nombres.keys())[:-1])\n",
    "i = 0 # Esto es un contador para evitar repeticiones \n",
    "for name in list(nombres.keys()):\n",
    "\n",
    "    for nombre in list(nombres.keys())[i:k]:\n",
    "        if tabla[nombre][name] != 0 or tabla[name][nombre] != 0:\n",
    "            if nombre != \"X\" and name != \"X\":\n",
    "                if tabla[nombre][name] > tabla[name][nombre]:\n",
    "                    print(\"%s debe %.2f euros a %s.\" % (nombres[nombre], \n",
    "                                              tabla[nombre][name] - tabla[name][nombre],\n",
    "                                              nombres[name]))\n",
    "                elif tabla[name][nombre] > tabla[nombre][name]:\n",
    "                    print(\"%s debe %.2f euros a %s.\" % (nombres[name], \n",
    "                                              tabla[name][nombre] - tabla[nombre][name],\n",
    "                                              nombres[nombre]))\n",
    "    i +=1"
   ],
   "outputs": [
    {
     "output_type": "stream",
     "name": "stdout",
     "text": [
      "\n",
      "\n",
      "\n",
      "#################\n",
      "# SIMPLIFICANDO #\n",
      "#################\n",
      "\n",
      "Pero, haciendo cuentas, ¿cuánto debe realmente\n",
      "cada uno a cada uno?\n",
      "\n",
      "Charles debe 5.00 euros a Eduardo.\n",
      "Rose debe 12.50 euros a Charles.\n",
      "Eduardo debe 2.00 euros a Rose.\n"
     ]
    }
   ],
   "metadata": {}
  },
  {
   "cell_type": "markdown",
   "source": [
    "### Third: this is for the lazy ones\n",
    "\n",
    "In this piece of code, Python only shows you the money that a given person owes to anybody, and the money that anybody owes to a given person. You have to enter the initial letter of the name of this given person (capital or small letter, it works the same way)."
   ],
   "metadata": {}
  },
  {
   "cell_type": "code",
   "execution_count": 9,
   "source": [
    "print(\"\\n\\n\\n\" +\n",
    "      \"######################\\n\" +\n",
    "      \"# PARA LOS PEREZOSOS #\\n\" +\n",
    "      \"######################\\n\")\n",
    "\n",
    "print(\"¿Te da pereza buscar tu nombre entre tanta línea?\")\n",
    "\n",
    "inicial = input(\"Dime cuál es tu inicial y te lo pondré más fácil: \")\n",
    "print(\"\")\n",
    "if inicial in \"aejlnAEJLN\":\n",
    "    inicial = inicial.upper()\n",
    "    k = len(list(nombres.keys())[:-1])\n",
    "    i = 0 # Esto es un contador para evitar repeticiones como \"Avelina debe 0 a Avelina\"\n",
    "    for name in list(nombres.keys())[:-1]:\n",
    "        i +=1\n",
    "        for nombre in list(nombres.keys())[i:k]:\n",
    "            if tabla[nombre][name] != 0 or tabla[name][nombre] != 0:\n",
    "                    if nombre == inicial or name == inicial:\n",
    "                        if tabla[nombre][name] > tabla[name][nombre]:\n",
    "                            print(\"%s debe %.2f euros a %s.\" % (nombres[nombre], \n",
    "                                                      tabla[nombre][name] - tabla[name][nombre],\n",
    "                                                      nombres[name]))\n",
    "                        elif tabla[name][nombre] > tabla[nombre][name]:\n",
    "                            print(\"%s debe %.2f euros a %s.\" % (nombres[name], \n",
    "                                                      tabla[name][nombre] - tabla[nombre][name],\n",
    "                                                      nombres[nombre]))    \n",
    "del name  , inicial, i, k"
   ],
   "outputs": [
    {
     "output_type": "stream",
     "name": "stdout",
     "text": [
      "\n",
      "\n",
      "\n",
      "######################\n",
      "# PARA LOS PEREZOSOS #\n",
      "######################\n",
      "\n",
      "¿Te da pereza buscar tu nombre entre tanta línea?\n",
      "\n",
      "Charles debe 5.00 euros a Eduardo.\n",
      "Eduardo debe 2.00 euros a Rose.\n"
     ]
    }
   ],
   "metadata": {}
  },
  {
   "cell_type": "markdown",
   "source": [
    "### Last one: what is the total money that each person is owed, or the total money that each person owes?"
   ],
   "metadata": {}
  },
  {
   "cell_type": "code",
   "execution_count": 11,
   "source": [
    "print(\"\\n\\n\\n###########\\n\" +\n",
    "      \"# TOTALES #\\n\" +\n",
    "      \"###########\\n\")            \n",
    "print(\"En total, ¿cuánto debe cada uno, o cuánto\\n\" +\n",
    "      \"se le debe a cada uno?\\n\")\n",
    "tabla = tabla[:5]\n",
    "for nombre in list(nombres.keys())[:-1]:\n",
    "    debe = pd.DataFrame.sum(tabla, axis = 0)[nombre]\n",
    "    se_le_debe = pd.DataFrame.sum(tabla, axis = 1)[nombre]\n",
    "    total = debe - se_le_debe\n",
    "    if nombre != \"X\":\n",
    "        if total > 0:\n",
    "            print(\"%s: debe %.2f euros.\" % (nombres[nombre], \n",
    "                                      total))\n",
    "        elif total < 0:\n",
    "            print(\"%s: se le deben %.2f euros.\" % (nombres[nombre], \n",
    "                                      -1 * total))  \n",
    "del nombre, debe, se_le_debe, total, nombres"
   ],
   "outputs": [
    {
     "output_type": "stream",
     "name": "stdout",
     "text": [
      "\n",
      "\n",
      "\n",
      "###########\n",
      "# TOTALES #\n",
      "###########\n",
      "\n",
      "En total, ¿cuánto debe cada uno, o cuánto\n",
      "se le debe a cada uno?\n",
      "\n",
      "Charles: se le deben 7.50 euros.\n",
      "Eduardo: se le deben 3.00 euros.\n",
      "Rose: debe 10.50 euros.\n"
     ]
    }
   ],
   "metadata": {}
  }
 ],
 "metadata": {
  "kernelspec": {
   "display_name": "Python 3",
   "language": "python",
   "name": "python3"
  },
  "language_info": {
   "codemirror_mode": {
    "name": "ipython",
    "version": 3
   },
   "file_extension": ".py",
   "mimetype": "text/x-python",
   "name": "python",
   "nbconvert_exporter": "python",
   "pygments_lexer": "ipython3",
   "version": "3.8.3"
  }
 },
 "nbformat": 4,
 "nbformat_minor": 4
}